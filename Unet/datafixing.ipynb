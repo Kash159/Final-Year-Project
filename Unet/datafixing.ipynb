{
 "cells": [
  {
   "cell_type": "code",
   "execution_count": 2,
   "metadata": {},
   "outputs": [],
   "source": [
    "import tensorflow as tf\n",
    "import os\n",
    "from PIL import Image\n",
    "import numpy as np\n",
    "\n",
    "# Set your dataset path\n",
    "dataset_path = 'archive/Lung Segmentation/masks'\n",
    "processed_path = 'Mask-images'\n",
    "\n",
    "# Function to process and save images\n",
    "def preprocess_image(image_path, target_size=(224, 224), channels=3):\n",
    "    try:\n",
    "        img = tf.io.read_file(image_path)\n",
    "        img = tf.io.decode_image(img, channels=channels, expand_animations=False)\n",
    "        img = tf.image.resize(img, target_size)\n",
    "        img = tf.cast(img, tf.float32) / 255.0  # Normalize to [0,1]\n",
    "        \n",
    "        # Remove any extra dimension if present\n",
    "        img = tf.squeeze(img, axis=0) if img.shape.rank == 4 else img\n",
    "        return img\n",
    "    except tf.errors.InvalidArgumentError:\n",
    "        print(f\"Corrupted image detected and skipped: {image_path}\")\n",
    "        return None\n",
    "\n",
    "# Process the dataset\n",
    "def preprocess_dataset(dataset_path, processed_path):\n",
    "    if not os.path.exists(processed_path):\n",
    "        os.makedirs(processed_path)\n",
    "\n",
    "    for subdir, dirs, files in os.walk(dataset_path):\n",
    "        for file in files:\n",
    "            file_path = os.path.join(subdir, file)\n",
    "            image = preprocess_image(file_path)\n",
    "            if image is not None:\n",
    "                processed_file_path = os.path.join(processed_path, os.path.relpath(file_path, dataset_path))\n",
    "                os.makedirs(os.path.dirname(processed_file_path), exist_ok=True)\n",
    "                tf.keras.preprocessing.image.save_img(processed_file_path, image)\n",
    "\n",
    "preprocess_dataset(dataset_path, processed_path)\n"
   ]
  },
  {
   "cell_type": "code",
   "execution_count": null,
   "metadata": {},
   "outputs": [],
   "source": []
  }
 ],
 "metadata": {
  "kernelspec": {
   "display_name": "tensorflow",
   "language": "python",
   "name": "python3"
  },
  "language_info": {
   "codemirror_mode": {
    "name": "ipython",
    "version": 3
   },
   "file_extension": ".py",
   "mimetype": "text/x-python",
   "name": "python",
   "nbconvert_exporter": "python",
   "pygments_lexer": "ipython3",
   "version": "3.12.4"
  }
 },
 "nbformat": 4,
 "nbformat_minor": 2
}
